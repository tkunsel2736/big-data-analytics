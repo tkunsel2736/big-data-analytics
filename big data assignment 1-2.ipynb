{
 "cells": [
  {
   "cell_type": "code",
   "execution_count": 1,
   "id": "f4d84200",
   "metadata": {},
   "outputs": [],
   "source": [
    "first_num=10"
   ]
  },
  {
   "cell_type": "code",
   "execution_count": 2,
   "id": "51312dac",
   "metadata": {},
   "outputs": [],
   "source": [
    "second_num=20"
   ]
  },
  {
   "cell_type": "code",
   "execution_count": 3,
   "id": "39935d00",
   "metadata": {},
   "outputs": [],
   "source": [
    "first_num,second_num = second_num,first_num"
   ]
  },
  {
   "cell_type": "code",
   "execution_count": 5,
   "id": "4d7423ce",
   "metadata": {},
   "outputs": [
    {
     "name": "stdout",
     "output_type": "stream",
     "text": [
      "first_num: 20\n",
      "second_num: 10\n"
     ]
    }
   ],
   "source": [
    "print(\"first_num:\",first_num)\n",
    "print(\"second_num:\", second_num)"
   ]
  },
  {
   "cell_type": "code",
   "execution_count": 22,
   "id": "5ea9adc7",
   "metadata": {},
   "outputs": [
    {
     "name": "stdout",
     "output_type": "stream",
     "text": [
      "3\n",
      "3\n"
     ]
    }
   ],
   "source": [
    "def name(a,b):\n",
    "    number=0\n",
    "    for i in a.lower().split():#lower case and split the word in list\n",
    "        if i == b:\n",
    "            number+=1\n",
    "    return number\n",
    "print(name('You cannot end a sentence with because because because is aconjunction.','because'))\n",
    "print(name('You cannot end a sentence with Because because Because is aconjunction.','because'))"
   ]
  },
  {
   "cell_type": "code",
   "execution_count": 24,
   "id": "0a0bc1b1",
   "metadata": {},
   "outputs": [
    {
     "data": {
      "text/plain": [
       "[2, 3, 5, 7, 11, 13, 17, 19, 23, 29, 31, 37, 41, 43, 47, 53, 59, 61, 67]"
      ]
     },
     "execution_count": 24,
     "metadata": {},
     "output_type": "execute_result"
    }
   ],
   "source": [
    "def function(given_num):\n",
    "    if given_num <= 1:\n",
    "        return False\n",
    "    for i in range(2, given_num):\n",
    "        if given_num % i == 0:\n",
    "            return False\n",
    "    return True\n",
    "list(filter(function, range(70)))"
   ]
  },
  {
   "cell_type": "code",
   "execution_count": 26,
   "id": "ad986164",
   "metadata": {},
   "outputs": [
    {
     "data": {
      "text/plain": [
       "['Fr', 'jk', 'rd', 'tt', 'bg', 'yw', 'qs', 'we', 'ee']"
      ]
     },
     "execution_count": 26,
     "metadata": {},
     "output_type": "execute_result"
    }
   ],
   "source": [
    "given_word = \"Farmer jack realized that big yellow quilts were expensive\"\n",
    "[i[0::len(i)-1] for i in given_word.split()]"
   ]
  },
  {
   "cell_type": "code",
   "execution_count": 29,
   "id": "57a5e6b8",
   "metadata": {},
   "outputs": [
    {
     "name": "stdout",
     "output_type": "stream",
     "text": [
      "Because\n",
      "because\n"
     ]
    }
   ],
   "source": [
    "given_word = 'You cannot end a sentence with because Because because is a conjunction.'\n",
    "n =[]\n",
    "for i in given_word.split():\n",
    "    if i[0] == 'b'.lower():\n",
    "       n.append(i)\n",
    "    elif i[0] =='b'.upper():\n",
    "       n.append(i)\n",
    "for word in set(n):\n",
    "    print(word)"
   ]
  },
  {
   "cell_type": "code",
   "execution_count": 1,
   "id": "69f47a11",
   "metadata": {},
   "outputs": [
    {
     "name": "stdout",
     "output_type": "stream",
     "text": [
      "Enter the length of first side ab =12\n",
      "Enter the length of second side bc =14\n",
      "Enter the length of third side cd = 15\n"
     ]
    }
   ],
   "source": [
    "def right_angled_triangle (a,b,c):\n",
    "    a,b,c = sorted ([a,b,c])\n",
    "    return(abs(( a**2 + b**2 - c**2 ) < 0.001))\n",
    "a = float(input(\"Enter the length of first side ab =\"))\n",
    "b = float(input(\"Enter the length of second side bc =\"))\n",
    "c = float(input(\"Enter the length of third side cd = \"))"
   ]
  },
  {
   "cell_type": "code",
   "execution_count": 2,
   "id": "637d0111",
   "metadata": {},
   "outputs": [
    {
     "name": "stdout",
     "output_type": "stream",
     "text": [
      "False\n"
     ]
    }
   ],
   "source": [
    "print(bool(right_angled_triangle (a,b,c)))"
   ]
  },
  {
   "cell_type": "code",
   "execution_count": 4,
   "id": "b85aa1fb",
   "metadata": {},
   "outputs": [
    {
     "name": "stdout",
     "output_type": "stream",
     "text": [
      "Enter the length of first side ab =12\n",
      "Enter the length of first side bc =23\n",
      "Enter the length of first side cd =45\n"
     ]
    }
   ],
   "source": [
    "def right_angled_triangle (a,b,c):\n",
    "    a,b,c = sorted([a,b,c])\n",
    "    return(abs(( a**2 + b**2 - c**2 ) < 0.001 ))\n",
    "a = float(input(\"Enter the length of first side ab =\"))\n",
    "b = float(input(\"Enter the length of first side bc =\"))\n",
    "c = float(input(\"Enter the length of first side cd =\"))"
   ]
  },
  {
   "cell_type": "code",
   "execution_count": 5,
   "id": "ecd53294",
   "metadata": {},
   "outputs": [
    {
     "name": "stdout",
     "output_type": "stream",
     "text": [
      "True\n"
     ]
    }
   ],
   "source": [
    "print(bool(right_angled_triangle (a,b,c)))"
   ]
  },
  {
   "cell_type": "code",
   "execution_count": 6,
   "id": "c4f09d13",
   "metadata": {},
   "outputs": [
    {
     "name": "stdout",
     "output_type": "stream",
     "text": [
      "[0, 1]\n"
     ]
    }
   ],
   "source": [
    "numbers = [2,7,11,15] \n",
    "result = [] \n",
    "target = 9 \n",
    "for index_one in range(len(numbers)): \n",
    "    for index_two in range(len(numbers)):\n",
    "        if (numbers[index_one] + numbers[index_two] == target): \n",
    "            if(( index_one not in result) and index_two not in result):\n",
    "                result.append(index_one) \n",
    "                result.append(index_two)\n",
    "print(result)"
   ]
  },
  {
   "cell_type": "code",
   "execution_count": 7,
   "id": "d150935a",
   "metadata": {},
   "outputs": [
    {
     "name": "stdout",
     "output_type": "stream",
     "text": [
      "7\n",
      "8\n",
      "8\n"
     ]
    }
   ],
   "source": [
    "def big_diff(numbers):\n",
    "    small_value = numbers[0]\n",
    "    big_value = numbers[0] \n",
    "    for i in numbers: \n",
    "        if i > big_value:\n",
    "               big_value = i \n",
    "        if i < small_value: \n",
    "               small_value = i\n",
    "    return big_value - small_value \n",
    "print(big_diff([10, 3, 5, 6]))\n",
    "print(big_diff([7, 2, 10, 9]))\n",
    "print(big_diff([2, 10, 7, 2]))"
   ]
  },
  {
   "cell_type": "code",
   "execution_count": null,
   "id": "208725d6",
   "metadata": {},
   "outputs": [],
   "source": []
  }
 ],
 "metadata": {
  "kernelspec": {
   "display_name": "Python 3 (ipykernel)",
   "language": "python",
   "name": "python3"
  },
  "language_info": {
   "codemirror_mode": {
    "name": "ipython",
    "version": 3
   },
   "file_extension": ".py",
   "mimetype": "text/x-python",
   "name": "python",
   "nbconvert_exporter": "python",
   "pygments_lexer": "ipython3",
   "version": "3.9.13"
  }
 },
 "nbformat": 4,
 "nbformat_minor": 5
}
